{
  "nbformat": 4,
  "nbformat_minor": 0,
  "metadata": {
    "colab": {
      "provenance": []
    },
    "kernelspec": {
      "name": "python3",
      "display_name": "Python 3"
    },
    "language_info": {
      "name": "python"
    },
    "accelerator": "TPU"
  },
  "cells": [
    {
      "cell_type": "code",
      "execution_count": 1,
      "metadata": {
        "colab": {
          "base_uri": "https://localhost:8080/"
        },
        "id": "aMAceMVptd0P",
        "outputId": "74c45d2c-5a65-4bd3-d87e-c8137d4f8a69"
      },
      "outputs": [
        {
          "output_type": "stream",
          "name": "stdout",
          "text": [
            "Downloading data from https://storage.googleapis.com/tensorflow/tf-keras-datasets/mnist.npz\n",
            "11490434/11490434 [==============================] - 0s 0us/step\n",
            "Epoch 1/10\n",
            "1875/1875 [==============================] - 21s 11ms/step - loss: 0.2536 - accuracy: 0.9265 - val_loss: 0.1134 - val_accuracy: 0.9664\n",
            "Epoch 2/10\n",
            "1875/1875 [==============================] - 19s 10ms/step - loss: 0.0989 - accuracy: 0.9703 - val_loss: 0.0800 - val_accuracy: 0.9738\n",
            "Epoch 3/10\n",
            "1875/1875 [==============================] - 18s 10ms/step - loss: 0.0725 - accuracy: 0.9779 - val_loss: 0.0645 - val_accuracy: 0.9784\n",
            "Epoch 4/10\n",
            "1875/1875 [==============================] - 19s 10ms/step - loss: 0.0564 - accuracy: 0.9829 - val_loss: 0.0614 - val_accuracy: 0.9792\n",
            "Epoch 5/10\n",
            "1875/1875 [==============================] - 18s 10ms/step - loss: 0.0457 - accuracy: 0.9858 - val_loss: 0.0579 - val_accuracy: 0.9808\n",
            "Epoch 6/10\n",
            "1875/1875 [==============================] - 21s 11ms/step - loss: 0.0383 - accuracy: 0.9880 - val_loss: 0.0515 - val_accuracy: 0.9839\n",
            "Epoch 7/10\n",
            "1875/1875 [==============================] - 18s 10ms/step - loss: 0.0317 - accuracy: 0.9903 - val_loss: 0.0512 - val_accuracy: 0.9828\n",
            "Epoch 8/10\n",
            "1875/1875 [==============================] - 20s 11ms/step - loss: 0.0269 - accuracy: 0.9914 - val_loss: 0.0523 - val_accuracy: 0.9844\n",
            "Epoch 9/10\n",
            "1875/1875 [==============================] - 18s 10ms/step - loss: 0.0221 - accuracy: 0.9930 - val_loss: 0.0567 - val_accuracy: 0.9824\n",
            "Epoch 10/10\n",
            "1875/1875 [==============================] - 19s 10ms/step - loss: 0.0193 - accuracy: 0.9938 - val_loss: 0.0516 - val_accuracy: 0.9840\n",
            "313/313 [==============================] - 1s 4ms/step - loss: 0.0516 - accuracy: 0.9840\n",
            "Test accuracy: 0.984000027179718\n"
          ]
        }
      ],
      "source": [
        "import tensorflow as tf\n",
        "from tensorflow.keras import layers, models\n",
        "\n",
        "mnist = tf.keras.datasets.mnist\n",
        "(train_images, train_labels), (test_images, test_labels) = mnist.load_data()\n",
        "\n",
        "train_images, test_images = train_images / 255.0, test_images / 255.0\n",
        "\n",
        "# Define the CNN architecture\n",
        "model = models.Sequential([\n",
        "    layers.Conv2D(8, (3, 3), activation='relu', input_shape=(28, 28, 1)),\n",
        "    layers.MaxPooling2D((2, 2)),\n",
        "    layers.Flatten(),\n",
        "    layers.Dense(32, activation='relu'),\n",
        "    layers.Dense(10, activation='softmax')\n",
        "])\n",
        "\n",
        "model.compile(optimizer='adam', loss='sparse_categorical_crossentropy', metrics=['accuracy'])\n",
        "\n",
        "model.fit(train_images.reshape((-1, 28, 28, 1)), train_labels, epochs=10, validation_data=(test_images.reshape((-1, 28, 28, 1)), test_labels))\n",
        "\n",
        "test_loss, test_acc = model.evaluate(test_images.reshape((-1, 28, 28, 1)), test_labels)\n",
        "print(f'Test accuracy: {test_acc}')"
      ]
    },
    {
      "cell_type": "code",
      "source": [],
      "metadata": {
        "id": "r3GCSroWtg3d"
      },
      "execution_count": null,
      "outputs": []
    }
  ]
}