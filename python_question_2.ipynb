{
 "cells": [
  {
   "cell_type": "code",
   "execution_count": 2,
   "id": "f8ce729b",
   "metadata": {},
   "outputs": [
    {
     "name": "stdout",
     "output_type": "stream",
     "text": [
      "33\n"
     ]
    }
   ],
   "source": [
    "def is_possible(stalls, k, mid, n):\n",
    "    hourse_count = 1\n",
    "    last_pos = stalls[0]\n",
    "\n",
    "    for i in range(1, n):\n",
    "        if stalls[i] - last_pos >= mid:\n",
    "            hourse_count += 1\n",
    "            if hourse_count == k:\n",
    "                return True\n",
    "            last_pos = stalls[i]\n",
    "\n",
    "    return False\n",
    "\n",
    "def aggressive_hourse(stalls, k):\n",
    "    stalls.sort()\n",
    "    s, e = 0, stalls[-1]\n",
    "    ans = -1\n",
    "    \n",
    "    while s <= e:\n",
    "        mid = s + (e - s) // 2\n",
    "        if is_possible(stalls, k, mid, len(stalls)):\n",
    "            ans = mid\n",
    "            s = mid + 1\n",
    "        else:\n",
    "            e = mid - 1\n",
    "\n",
    "    return ans\n",
    "\n",
    "# Example usage:\n",
    "stalls = [12,14,25,45,78]\n",
    "k = 3\n",
    "print(aggressive_hourse(stalls, k))  # Output will be the maximum minimum distance"
   ]
  },
  {
   "cell_type": "code",
   "execution_count": null,
   "id": "a0de67e0",
   "metadata": {},
   "outputs": [],
   "source": []
  }
 ],
 "metadata": {
  "kernelspec": {
   "display_name": "Python 3 (ipykernel)",
   "language": "python",
   "name": "python3"
  },
  "language_info": {
   "codemirror_mode": {
    "name": "ipython",
    "version": 3
   },
   "file_extension": ".py",
   "mimetype": "text/x-python",
   "name": "python",
   "nbconvert_exporter": "python",
   "pygments_lexer": "ipython3",
   "version": "3.9.12"
  }
 },
 "nbformat": 4,
 "nbformat_minor": 5
}
