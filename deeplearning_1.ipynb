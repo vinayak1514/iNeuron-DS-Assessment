{
 "cells": [
  {
   "cell_type": "markdown",
   "id": "8ba5c54a",
   "metadata": {},
   "source": [
    "Deep learning (DL) can be applied to real-world problems in a step-by-step process:\n",
    "\n",
    "- Identify a problem suited for data analysis and pattern recognition (e.g., image recognition).\n",
    "- Gather high-quality data relevant to the problem.\n",
    "- Preprocess the data to ensure it's clean and usable for training.\n",
    "- Choose a deep learning model based on the data type (e.g., CNNs for images).\n",
    "- Train the model using the prepared data to make accurate predictions.\n",
    "- Validate and fine-tune the model for optimal performance on unseen data.\n",
    "- Deploy the model in a real-world application.\n",
    "- Monitor and update the model to maintain accuracy over time."
   ]
  },
  {
   "cell_type": "markdown",
   "id": "34652b5b",
   "metadata": {},
   "source": [
    "(b) Activation Function in Neural Networks:\n",
    "\n",
    "1. Purpose:\n",
    "\n",
    "Add Complexity: Helps the neural network understand complicated patterns.\n",
    "\n",
    "Enable Learning: Allows the network to adjust and learn from the data.\n",
    "\n",
    "2. Problem Without Activation Function:\n",
    "\n",
    "Limited Power: The network becomes too simple, like a basic linear model.\n",
    "\n",
    "Ineffective Learning: Hard to learn and adapt to the complexities of the data."
   ]
  },
  {
   "cell_type": "code",
   "execution_count": null,
   "id": "8d22a08d",
   "metadata": {},
   "outputs": [],
   "source": []
  }
 ],
 "metadata": {
  "kernelspec": {
   "display_name": "Python 3 (ipykernel)",
   "language": "python",
   "name": "python3"
  },
  "language_info": {
   "codemirror_mode": {
    "name": "ipython",
    "version": 3
   },
   "file_extension": ".py",
   "mimetype": "text/x-python",
   "name": "python",
   "nbconvert_exporter": "python",
   "pygments_lexer": "ipython3",
   "version": "3.9.12"
  }
 },
 "nbformat": 4,
 "nbformat_minor": 5
}
